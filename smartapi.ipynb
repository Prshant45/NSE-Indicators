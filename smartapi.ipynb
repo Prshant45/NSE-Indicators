{
  "nbformat": 4,
  "nbformat_minor": 0,
  "metadata": {
    "colab": {
      "name": "Untitled2.ipynb",
      "provenance": [],
      "authorship_tag": "ABX9TyNkM+o0Hcw+qCxMcpbYxNhC",
      "include_colab_link": true
    },
    "kernelspec": {
      "name": "python3",
      "display_name": "Python 3"
    },
    "language_info": {
      "name": "python"
    }
  },
  "cells": [
    {
      "cell_type": "markdown",
      "metadata": {
        "id": "view-in-github",
        "colab_type": "text"
      },
      "source": [
        "<a href=\"https://colab.research.google.com/github/Prshant45/NSE-Indicators/blob/master/smartapi.ipynb\" target=\"_parent\"><img src=\"https://colab.research.google.com/assets/colab-badge.svg\" alt=\"Open In Colab\"/></a>"
      ]
    },
    {
      "cell_type": "code",
      "execution_count": null,
      "metadata": {
        "id": "ZtA-Et04pNzS"
      },
      "outputs": [],
      "source": [
        "!pip install smartapi-python\n",
        "!pip install websocket-client"
      ]
    },
    {
      "cell_type": "code",
      "source": [
        "from smartapi import SmartConnect"
      ],
      "metadata": {
        "id": "LGDd2uZguttH"
      },
      "execution_count": 4,
      "outputs": []
    },
    {
      "cell_type": "code",
      "source": [
        "#create object of call\n",
        "obj=SmartConnect(api_key=\"\")\n",
        "#login api call\n",
        "\n",
        "data = obj.generateSession(\"\",\"\")\n",
        "refreshToken= data['data']['refreshToken']\n",
        "\n",
        "#fetch the feedtoken\n",
        "feedToken=obj.getfeedToken()\n",
        "\n",
        "\n",
        "#fetch User Profile\n",
        "userProfile= obj.getProfile(refreshToken)\n",
        "print(userProfile)\n",
        "print(obj.rmsLimit())"
      ],
      "metadata": {
        "id": "a6i-bbM-u0LS"
      },
      "execution_count": null,
      "outputs": []
    },
    {
      "cell_type": "code",
      "source": [
        ""
      ],
      "metadata": {
        "id": "IzgY59cex3bV"
      },
      "execution_count": null,
      "outputs": []
    }
  ]
}